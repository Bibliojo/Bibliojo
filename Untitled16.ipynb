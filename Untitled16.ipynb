{
  "nbformat": 4,
  "nbformat_minor": 0,
  "metadata": {
    "colab": {
      "provenance": [],
      "authorship_tag": "ABX9TyNmUbKtZJyEmRIHgWPfNY+S",
      "include_colab_link": true
    },
    "kernelspec": {
      "name": "python3",
      "display_name": "Python 3"
    },
    "language_info": {
      "name": "python"
    }
  },
  "cells": [
    {
      "cell_type": "markdown",
      "metadata": {
        "id": "view-in-github",
        "colab_type": "text"
      },
      "source": [
        "<a href=\"https://colab.research.google.com/github/Bibliojo/Bibliojo/blob/main/Untitled16.ipynb\" target=\"_parent\"><img src=\"https://colab.research.google.com/assets/colab-badge.svg\" alt=\"Open In Colab\"/></a>"
      ]
    },
    {
      "cell_type": "code",
      "source": [
        "import requests\n",
        "from bs4 import BeautifulSoup\n",
        "import pandas as pd\n",
        "\n",
        "# URL of the faculty page\n",
        "url = \"https://history.uwo.ca/people/faculty/index.html\"\n",
        "\n",
        "try:\n",
        "    response = requests.get(url)\n",
        "    response.raise_for_status()  # Check that the request was successful\n",
        "\n",
        "    # Parse the page content with BeautifulSoup\n",
        "    soup = BeautifulSoup(response.text, 'html.parser')\n",
        "\n",
        "    # Find all div elements with the specified class\n",
        "    faculty_divs = soup.find_all('div')\n",
        "\n",
        "    # Extract names and email addresses\n",
        "    faculty_data = []\n",
        "    for div in faculty_divs:\n",
        "        name = div.find('h1')\n",
        "        email = div.find('a', href=True)\n",
        "        if name and email:\n",
        "            faculty_data.append({\n",
        "                'Name': name.get_text(strip=True),\n",
        "                'Email': email['href'].replace('mailto:', '')\n",
        "            })\n",
        "\n",
        "    # Convert the data to a pandas DataFrame\n",
        "    faculty_df = pd.DataFrame(faculty_data)\n",
        "\n",
        "    # Save the DataFrame to an Excel file\n",
        "    output_path = 'faculty_names_and_emails.xlsx'\n",
        "    faculty_df.to_excel(output_path, index=False)\n",
        "    print(f\"Data has been saved to {output_path}\")\n",
        "\n",
        "except requests.exceptions.RequestException as e:\n",
        "    print(f\"An error occurred: {e}\")\n"
      ],
      "metadata": {
        "colab": {
          "base_uri": "https://localhost:8080/"
        },
        "id": "lwW097xpoJiG",
        "outputId": "4283f6ae-f430-4973-ea0f-9793bc8a72dd"
      },
      "execution_count": 4,
      "outputs": [
        {
          "output_type": "stream",
          "name": "stdout",
          "text": [
            "Data has been saved to faculty_names_and_emails.xlsx\n"
          ]
        }
      ]
    }
  ]
}