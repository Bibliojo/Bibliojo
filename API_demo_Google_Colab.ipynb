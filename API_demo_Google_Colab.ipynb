{
  "nbformat": 4,
  "nbformat_minor": 0,
  "metadata": {
    "colab": {
      "provenance": [],
      "include_colab_link": true
    },
    "kernelspec": {
      "name": "python3",
      "display_name": "Python 3"
    },
    "language_info": {
      "name": "python"
    }
  },
  "cells": [
    {
      "cell_type": "markdown",
      "metadata": {
        "id": "view-in-github",
        "colab_type": "text"
      },
      "source": [
        "<a href=\"https://colab.research.google.com/github/Bibliojo/Bibliojo/blob/main/API_demo_Google_Colab.ipynb\" target=\"_parent\"><img src=\"https://colab.research.google.com/assets/colab-badge.svg\" alt=\"Open In Colab\"/></a>"
      ]
    },
    {
      "cell_type": "markdown",
      "source": [
        "# API demo - Using Google Colab to retrieve and analyze API data"
      ],
      "metadata": {
        "id": "M9AfGu-1IZhR"
      }
    },
    {
      "cell_type": "code",
      "source": [],
      "metadata": {
        "id": "PUYg7n1mcE3r"
      },
      "execution_count": null,
      "outputs": []
    },
    {
      "cell_type": "markdown",
      "source": [
        "Google Colab notebooks enables you to write and execute Python code in your web browser.\n",
        "\n",
        "You can use this notebook to retrieve data through the OpenAlex API and to analyze and visualize the data using Python code."
      ],
      "metadata": {
        "id": "qe5vBgUWRAKV"
      }
    },
    {
      "cell_type": "markdown",
      "source": [
        "## 1. Retrieve all journal articles published in the period 2018-2022 by Leiden University"
      ],
      "metadata": {
        "id": "YPGX0UZOJiTU"
      }
    },
    {
      "cell_type": "markdown",
      "source": [
        "To retrieve the relevant works, you need to iterate over multiple API result pages, since each API call returns at most 200 works. Each call yields a `results` object and a `meta` object. The `meta` object has a property `next_cursor`, which provides a reference to the next results page. The `next_cursor` references can be used to iterate over the result pages and to retrieve all results."
      ],
      "metadata": {
        "id": "9slzgiJK8eWX"
      }
    },
    {
      "cell_type": "code",
      "execution_count": null,
      "metadata": {
        "id": "BLUlPT1xj4kG",
        "colab": {
          "base_uri": "https://localhost:8080/"
        },
        "outputId": "9170929c-0d1a-469b-c764-8555fc75333c"
      },
      "outputs": [
        {
          "output_type": "stream",
          "name": "stdout",
          "text": [
            "17356/17356: https://api.openalex.org/works?filter=authorships.institutions.ror:027bh9e22,publication_year:2018-2022,type:article,primary_location.source.type:journal&per-page=200&mailto=&cursor=IlswLCAnaHR0cHM6Ly9vcGVuYWxleC5vcmcvVzQzODcxMjgwNTYnXSI=\n",
            "Total works: 17356\n"
          ]
        }
      ],
      "source": [
        "import requests\n",
        "\n",
        "mailto = \"\"  # @param {type:\"string\"}\n",
        "\n",
        "ror_id     = \"027bh9e22\"  # @param {type:\"string\"}\n",
        "start_year = 2018  # @param {type:\"slider\", min:2015, max:2023, step:1}\n",
        "end_year   = 2022  # @param {type:\"slider\", min:2015, max:2023, step:1}\n",
        "\n",
        "filter = f\"authorships.institutions.ror:{ror_id},publication_year:{start_year}-{end_year},type:article,primary_location.source.type:journal\"\n",
        "api_url = f\"https://api.openalex.org/works?filter={filter}&per-page=200&mailto={mailto}\"\n",
        "\n",
        "cursor = \"*\"  # Cursor for the first request\n",
        "works = []  # List to accumulate all results\n",
        "\n",
        "while cursor:\n",
        "    # Construct the request URL with the current cursor\n",
        "    request_url = api_url + f\"&cursor={cursor}\"\n",
        "\n",
        "    # Get results from the API\n",
        "    page = requests.get(request_url).json()\n",
        "    results = page.get('results')\n",
        "    meta = page.get('meta')\n",
        "\n",
        "    # Accumulate results\n",
        "    works += results\n",
        "\n",
        "    # Get the next cursor from the current results\n",
        "    cursor = meta.get('next_cursor')\n",
        "\n",
        "    # Print progress\n",
        "    total = int(meta.get(\"count\"))\n",
        "    print(f\"\\r{len(works)}/{total}: {request_url}\", end=\"\")\n",
        "\n",
        "# Do something with all results\n",
        "print(f\"\\nTotal works: {len(works)}\")"
      ]
    },
    {
      "cell_type": "markdown",
      "source": [
        "## 2. List the 10 most highly cited works\n",
        "    "
      ],
      "metadata": {
        "id": "J24ur_garope"
      }
    },
    {
      "cell_type": "markdown",
      "source": [
        "A simple approach is to sort the list of works based on the `cited_by_count` key and to then take the first 10 works.\n",
        "\n",
        "*Note: Sorting a list of dictionaries based on a key can be done by using the `sorted()` function in combination with a lambda (anonymous) function. The lambda function returns the relevant key for each work as it is being processed by the `sorted()` function.*"
      ],
      "metadata": {
        "id": "U7MJbtLesRtw"
      }
    },
    {
      "cell_type": "code",
      "source": [
        "# Sort the list of works based on the cited_by_count\n",
        "works_cited = sorted(\n",
        "    works,\n",
        "    key=lambda work: work.get(\"cited_by_count\"),\n",
        "    reverse=True  # Reverse the sort to have the most cited works first\n",
        ")\n",
        "\n",
        "# Take the first 10 works from the sorted list\n",
        "works_cited_top10 = works_cited[:10]\n",
        "\n",
        "# Print the header\n",
        "print(f\"{'cited_by_count':<20} {'title':<100} {'source'} \\n{'-' * 150}\")\n",
        "# Print the results\n",
        "for work in works_cited_top10:\n",
        "    cited_by_count = work['cited_by_count']\n",
        "    title = work['title'][:99]\n",
        "    source = work['primary_location']['source']['display_name']\n",
        "    print(f\"{cited_by_count:<20} {title:<100} {source}\")"
      ],
      "metadata": {
        "colab": {
          "base_uri": "https://localhost:8080/"
        },
        "id": "oEN1m5L5piVT",
        "outputId": "1e795bdc-7cf3-44c9-d48c-54acf3d0227b"
      },
      "execution_count": null,
      "outputs": [
        {
          "output_type": "stream",
          "name": "stdout",
          "text": [
            "cited_by_count       title                                                                                                source \n",
            "------------------------------------------------------------------------------------------------------------------------------------------------------\n",
            "1922                 From Louvain to Leiden: guaranteeing well-connected communities                                      Scientific Reports\n",
            "1506                 <i>Gaia</i> Data Release 2                                                                           Astronomy and Astrophysics\n",
            "1283                 Advances and challenges in understanding the electrocatalytic conversion of carbon dioxide to fuels  Nature Energy\n",
            "1254                 antiSMASH 6.0: improving cluster detection and comparison capabilities                               Nucleic Acids Research\n",
            "1230                 Prevention and treatment of low back pain: evidence, challenges, and promising directions            The Lancet\n",
            "1162                 Structure and function of the global topsoil microbiome                                              Nature\n",
            "1087                 A survey on semi-supervised learning                                                                 Machine Learning\n",
            "1044                 <i>Planck</i>2018 results                                                                            Astronomy and Astrophysics\n",
            "896                  A systematic review shows no performance benefit of machine learning over logistic regression for c  Journal of Clinical Epidemiology\n",
            "788                  First M87 Event Horizon Telescope Results. VI. The Shadow and Mass of the Central Black Hole         The astrophysical journal\n"
          ]
        }
      ]
    },
    {
      "cell_type": "markdown",
      "source": [
        "## 3. List the 25 sources with the largest number of works and display the number of citations and average number of citations per work"
      ],
      "metadata": {
        "id": "FVR6cG9Ur4lp"
      }
    },
    {
      "cell_type": "markdown",
      "source": [
        "To aggregate over the results without using any complicated libraries we can construct a dictionary of sources.\n",
        "\n",
        "For each source we collect the identifier, name, and initialize the number of works and citations to 0. This leaves us with a dictionary of unique sources.\n",
        "\n",
        "In a next loop we can add the counts, by adding 1 to the relevant source for each work and adding the citations of that work to the total number of citations for the source.\n",
        "\n",
        "*(These steps could be done in a single loop, but for simplicity we separate the two steps)*\n",
        "\n",
        "Finally we calculate the average number of citations and sort the list."
      ],
      "metadata": {
        "id": "Kv0wvAlMtz24"
      }
    },
    {
      "cell_type": "code",
      "source": [
        "# Collect the sources\n",
        "sources = {}\n",
        "for work in works:\n",
        "    source = work[\"primary_location\"][\"source\"]\n",
        "    sources[source[\"id\"]] = {\n",
        "        \"id\": source[\"id\"].replace(\"https://openalex.org/\", \"\"),\n",
        "        \"display_name\": source[\"display_name\"],\n",
        "        \"cited_by_count\": 0,\n",
        "        \"works_count\": 0\n",
        "    }\n",
        "\n",
        "# Count works and citations\n",
        "for work in works:\n",
        "    source = work.get(\"primary_location\").get(\"source\")\n",
        "    sources[source[\"id\"]][\"cited_by_count\"] += work[\"cited_by_count\"]\n",
        "    sources[source[\"id\"]][\"works_count\"] += 1\n",
        "\n",
        "# Convert the dictionary into a list to make sorting easier\n",
        "sources_list = sources.values()\n",
        "\n",
        "# Calculate average number of citations for each source\n",
        "for source in sources_list:\n",
        "    source['cited_by_count_avg'] = round(source['cited_by_count'] / source['works_count'], 2)\n",
        "\n",
        "# Sort the list of sources\n",
        "sources_sorted = sorted(\n",
        "    sources_list,\n",
        "    key=lambda source: source[\"works_count\"],\n",
        "    reverse=True\n",
        ")\n",
        "\n",
        "# Take the first 25 source from the sorted list\n",
        "sources_sorted_top25 = sources_sorted[:25]\n",
        "\n",
        "# Print the list of sources\n",
        "print(f\"{'id':<15} {'source':<75} {'works_count':<15} {'cited_by_count':<15} {'avg_cited_by_count':<20} \\n{'-' * 150}\")\n",
        "for source in sources_sorted_top25:\n",
        "    id = source['id']\n",
        "    works_count = source['works_count']\n",
        "    cited_by_count = source['cited_by_count']\n",
        "    cited_by_count_avg = source['cited_by_count_avg']\n",
        "    name = source['display_name'][:74]\n",
        "    print(f\"{id:<15} {name:<75} {works_count:<15} {cited_by_count:<15} {cited_by_count_avg:<20}\")"
      ],
      "metadata": {
        "colab": {
          "base_uri": "https://localhost:8080/"
        },
        "id": "Y7YPA7CHu96a",
        "outputId": "1c584bcf-7b21-40cb-9999-28ce874ec0af"
      },
      "execution_count": null,
      "outputs": [
        {
          "output_type": "stream",
          "name": "stdout",
          "text": [
            "id              source                                                                      works_count     cited_by_count  avg_cited_by_count   \n",
            "------------------------------------------------------------------------------------------------------------------------------------------------------\n",
            "S205231332      Astronomy and Astrophysics                                                  1075            32657           30.38               \n",
            "S195663288      Monthly Notices of the Royal Astronomical Society                           775             18167           23.44               \n",
            "S1980519        The Astrophysical Journal                                                   428             12214           28.54               \n",
            "S196734849      Scientific Reports                                                          189             5023            26.58               \n",
            "S202381698      PLOS ONE                                                                    151             2206            14.61               \n",
            "S64187185       Nature Communications                                                       111             4523            40.75               \n",
            "S4210175824     The astrophysical journal                                                   90              4091            45.46               \n",
            "S9692511        Frontiers in Psychology                                                     84              674             8.02                \n",
            "S13054843       Osteoarthritis and Cartilage                                                78              19              0.24                \n",
            "S100695177      The Astronomical Journal                                                    66              1604            24.3                \n",
            "S125754415      Proceedings of the National Academy of Sciences of the United States of Am  65              2399            36.91               \n",
            "S183686791      Astrophysical Journal Supplement Series                                     65              2366            36.4                \n",
            "S4210238307     Physical review                                                             58              1441            24.84               \n",
            "S120662888      Journal of Cosmology and Astroparticle Physics                              57              1628            28.56               \n",
            "S137773608      Nature                                                                      54              7111            131.69              \n",
            "S4210212087     Proceedings of the International Astronomical Union                         51              16              0.31                \n",
            "S2764494557     Nature Astronomy                                                            47              1567            33.34               \n",
            "S86852077       Science of The Total Environment                                            47              1239            26.36               \n",
            "S58516903       Journal of Cleaner Production                                               47              1735            36.91               \n",
            "S68911691       Chemistry - A European Journal                                              47              436             9.28                \n",
            "S24807848       Physical Review Letters                                                     43              1263            29.37               \n",
            "S203731762      Journal of Industrial Ecology                                               42              1398            33.29               \n",
            "S181332294      Physical Chemistry Chemical Physics                                         42              535             12.74               \n",
            "S3880285        Science                                                                     40              4005            100.12              \n",
            "S200071133      Blood                                                                       40              58              1.45                \n"
          ]
        }
      ]
    },
    {
      "cell_type": "markdown",
      "source": [
        "## 4. List all OA colors with number of works and relative number of works"
      ],
      "metadata": {
        "id": "1TQUuNQgsCuD"
      }
    },
    {
      "cell_type": "markdown",
      "source": [
        "For each `oa_status` we count the number of works, calculate the counts relative to the total number, and show the results.\n",
        "\n",
        "*Note: In the expression `oa[oa_status] = oa.get(oa_status, 0) + 1`, `oa.get(oa_status, 0)` evaluates to 0 if the current oa_status is not yet encountered in the list of works. This has the effect that the status will be added to the dictionary with a value of 1 if it is not yet present or incremented if it is already present.*"
      ],
      "metadata": {
        "id": "lD320qDQw6Ck"
      }
    },
    {
      "cell_type": "code",
      "source": [
        "# Collect and count the oa statuses\n",
        "oa = {}\n",
        "for work in works:\n",
        "    oa_status = work.get(\"open_access\").get(\"oa_status\")\n",
        "    oa[oa_status] = oa.get(oa_status, 0) + 1\n",
        "# oa_list = {\"hybrid\": 5241, \"gold\": 33716, ...}\n",
        "\n",
        "# Convert to a table\n",
        "oa_list = oa.items()\n",
        "# oa_list = [(\"hybrid\", 5241), (\"gold\", 33716), ...]\n",
        "\n",
        "# Sort the table\n",
        "oa_sorted = sorted(\n",
        "    oa_list,\n",
        "    key=lambda oa: oa[1],  # sort the table by the second column\n",
        "    reverse=True\n",
        ")\n",
        "\n",
        "# Print the sorted list\n",
        "print(f\"{'oa_status':<20} {'works_count':<20} {'works_count_relative':<20} \\n{'-' * 100}\")\n",
        "for status, works_count in oa_sorted:\n",
        "    relative = round(works_count / len(works) * 100, 2)\n",
        "    print(f\"{status:<20} {works_count:<20} {relative}\")"
      ],
      "metadata": {
        "colab": {
          "base_uri": "https://localhost:8080/"
        },
        "id": "iQdwNKo0w2NB",
        "outputId": "beac48dd-4ef1-4816-87b4-ebb55296b3df"
      },
      "execution_count": null,
      "outputs": [
        {
          "output_type": "stream",
          "name": "stdout",
          "text": [
            "oa_status            works_count          works_count_relative \n",
            "----------------------------------------------------------------------------------------------------\n",
            "hybrid               5251                 30.26\n",
            "gold                 3719                 21.43\n",
            "green                3449                 19.88\n",
            "bronze               2528                 14.57\n",
            "closed               2404                 13.86\n"
          ]
        }
      ]
    },
    {
      "cell_type": "markdown",
      "source": [
        "## 5. Create a pie chart showing the OA colors"
      ],
      "metadata": {
        "id": "9psBToeXsMB9"
      }
    },
    {
      "cell_type": "markdown",
      "source": [
        "There are two main libraries used for plotting data in Python: Matplotlib and Plotly. Matplotlib is the most established and 'Pythonic' way to create plots. Plotly is a more modern approach with which it is easy to create interactive charts."
      ],
      "metadata": {
        "id": "LRQWh4ScVuMh"
      }
    },
    {
      "cell_type": "code",
      "source": [
        "import plotly.express as px\n",
        "import matplotlib.pyplot as plt\n",
        "\n",
        "oa_names = oa.keys()     # [\"hybrid\", \"gold\", ...]\n",
        "oa_counts = oa.values()  # [5241, 3716, ...]\n",
        "\n",
        "plot_type = \"Matplotlib\" # @param [\"Matplotlib\", \"Plotly\"]\n",
        "if plot_type == \"Matplotlib\":\n",
        "    plt.pie(\n",
        "        oa_counts,\n",
        "        labels=oa_names,\n",
        "        startangle=90,\n",
        "        autopct='%1.0f%%'\n",
        "    )\n",
        "    plt.show()\n",
        "else:\n",
        "    fig = px.pie(\n",
        "        names=oa_names,\n",
        "        values=oa_counts\n",
        "    )\n",
        "    fig.show()\n"
      ],
      "metadata": {
        "colab": {
          "base_uri": "https://localhost:8080/",
          "height": 406
        },
        "id": "U9xkcgwIVnT7",
        "outputId": "a6aba6b4-402d-40f9-a3c9-630fbf5dbf32"
      },
      "execution_count": null,
      "outputs": [
        {
          "output_type": "display_data",
          "data": {
            "text/plain": [
              "<Figure size 640x480 with 1 Axes>"
            ],
            "image/png": "[encoded data removed]"
          },
          "metadata": {}
        }
      ]
    },
    {
      "cell_type": "markdown",
      "source": [
        "## 6. Create a line chart showing the total number of publications and citations per year"
      ],
      "metadata": {
        "id": "VSbn4XA9sT49"
      }
    },
    {
      "cell_type": "markdown",
      "source": [
        "To create a line chart, we need two arrays, one for the x-axis and one for the y-axis. In this case we plot the publication years that we collect from the works on the x-axis and the counts on the y-axis."
      ],
      "metadata": {
        "id": "_cgjcH1hWOAC"
      }
    },
    {
      "cell_type": "code",
      "source": [
        "# Collect the years and count the works per year\n",
        "year_works_count = {}\n",
        "for work in works:\n",
        "    year = str(work.get(\"publication_year\"))\n",
        "    year_works_count[year] = year_works_count.get(year, 0) + 1\n",
        "\n",
        "# Convert to table\n",
        "year_works_count_list = year_works_count.items()\n",
        "\n",
        "# Sort the table by the first column\n",
        "year_works_count_sorted = sorted(year_works_count_list, key=lambda year: year[0])\n",
        "\n",
        "# Populate the x-axis\n",
        "years = [ year[0] for year in year_works_count_sorted ]\n",
        "# Populate the y-axis\n",
        "publications = [ year[1] for year in year_works_count_sorted ]\n",
        "\n",
        "plot_type = \"Matplotlib\" # @param [\"Matplotlib\", \"Plotly\"]\n",
        "if plot_type == \"Matplotlib\":\n",
        "    plt.plot(years, publications)\n",
        "    plt.ylim(0, max(publications) * 1.1)\n",
        "    plt.show()\n",
        "else:\n",
        "    fig = px.line(x=years, y=publications)\n",
        "    fig.show()"
      ],
      "metadata": {
        "colab": {
          "base_uri": "https://localhost:8080/",
          "height": 430
        },
        "id": "hBXNl4qnWwYb",
        "outputId": "4978d86c-cf38-4d0b-8cb9-4f31271a774e"
      },
      "execution_count": null,
      "outputs": [
        {
          "output_type": "display_data",
          "data": {
            "text/plain": [
              "<Figure size 640x480 with 1 Axes>"
            ],
            "image/png": "[encoded data removed]"
          },
          "metadata": {}
        }
      ]
    },
    {
      "cell_type": "code",
      "source": [
        "year_cited_by_count = {}\n",
        "for work in works:\n",
        "    year = str(work.get(\"publication_year\"))\n",
        "    year_cited_by_count[year] = year_cited_by_count.get(year, 0) + work.get(\"cited_by_count\", 0)\n",
        "\n",
        "year_cited_by_count_list = year_cited_by_count.items()\n",
        "year_cited_by_count_sorted = sorted(year_cited_by_count_list, key=lambda year: year[0])\n",
        "\n",
        "years = [ year[0] for year in year_cited_by_count_sorted ]\n",
        "citations = [ year[1] for year in year_cited_by_count_sorted ]\n",
        "\n",
        "plot_type = \"Matplotlib\" # @param [\"Matplotlib\", \"Plotly\"]\n",
        "if plot_type == \"Matplotlib\":\n",
        "    plt.plot(years, citations)\n",
        "    plt.ylim(0, max(citations) * 1.1)\n",
        "    plt.show()\n",
        "else:\n",
        "    fig = px.line(x=years, y=citations)\n",
        "    fig.show()\n"
      ],
      "metadata": {
        "colab": {
          "base_uri": "https://localhost:8080/",
          "height": 430
        },
        "id": "V1zV94UYewhZ",
        "outputId": "c515f0fc-e83e-4082-adac-6f32667a2b6a"
      },
      "execution_count": null,
      "outputs": [
        {
          "output_type": "display_data",
          "data": {
            "text/plain": [
              "<Figure size 640x480 with 1 Axes>"
            ],
            "image/png": "[encoded data removed]"
          },
          "metadata": {}
        }
      ]
    },
    {
      "cell_type": "markdown",
      "source": [
        "## 7. Create a world map showing the number of authorships per country"
      ],
      "metadata": {
        "id": "jZi4jT6Hsba1"
      }
    },
    {
      "cell_type": "markdown",
      "source": [
        "To create a world map of the authorships per country, we can use a choropleth map using the Plotly library.\n",
        "\n",
        "We can simply count the countries per authorship per work. But we need to sanitize the countries as OpenAlex provides ISO-2 country codes, while\n",
        "Plotly expects ISO-3 country codes. We can use the `country_converter` library for this.\n",
        "\n",
        "To create the choropleth map we need a geographic indicator, in this case a list of ISO-3 country codes, and a color indicator, in this case the authorship count per country. Optionally we can also include the full name of the countries as a label."
      ],
      "metadata": {
        "id": "ROe2ZIrO3-qa"
      }
    },
    {
      "cell_type": "code",
      "source": [
        "%pip install country_converter"
      ],
      "metadata": {
        "colab": {
          "base_uri": "https://localhost:8080/"
        },
        "id": "eIxKV-uziVNg",
        "outputId": "550d5e7f-40cf-4922-9897-a8f4cd34b28c"
      },
      "execution_count": null,
      "outputs": [
        {
          "output_type": "stream",
          "name": "stdout",
          "text": [
            "Collecting country_converter\n",
            "  Downloading country_converter-1.0.0-py3-none-any.whl (44 kB)\n",
            "\u001b[?25l     \u001b[90m━━━━━━━━━━━━━━━━━━━━━━━━━━━━━━━━━━━━━━━━\u001b[0m \u001b[32m0.0/44.5 kB\u001b[0m \u001b[31m?\u001b[0m eta \u001b[36m-:--:--\u001b[0m\r\u001b[2K     \u001b[90m━━━━━━━━━━━━━━━━━━━━━━━━━━━━━━━━━━━━━━━━\u001b[0m \u001b[32m44.5/44.5 kB\u001b[0m \u001b[31m1.6 MB/s\u001b[0m eta \u001b[36m0:00:00\u001b[0m\n",
            "\u001b[?25hRequirement already satisfied: pandas>=1.0 in /usr/local/lib/python3.10/dist-packages (from country_converter) (1.5.3)\n",
            "Requirement already satisfied: python-dateutil>=2.8.1 in /usr/local/lib/python3.10/dist-packages (from pandas>=1.0->country_converter) (2.8.2)\n",
            "Requirement already satisfied: pytz>=2020.1 in /usr/local/lib/python3.10/dist-packages (from pandas>=1.0->country_converter) (2023.3.post1)\n",
            "Requirement already satisfied: numpy>=1.21.0 in /usr/local/lib/python3.10/dist-packages (from pandas>=1.0->country_converter) (1.23.5)\n",
            "Requirement already satisfied: six>=1.5 in /usr/local/lib/python3.10/dist-packages (from python-dateutil>=2.8.1->pandas>=1.0->country_converter) (1.16.0)\n",
            "Installing collected packages: country_converter\n",
            "Successfully installed country_converter-1.0.0\n"
          ]
        }
      ]
    },
    {
      "cell_type": "code",
      "source": [
        "# Count the countries per authorship per work\n",
        "countries = {}\n",
        "for work in works:\n",
        "    for authorship in work.get(\"authorships\"):\n",
        "        for country in authorship.get(\"countries\"):\n",
        "            countries[country] = countries.get(country, 0) + 1\n",
        "\n",
        "# Optionally remove the Netherlands as a vast majority of Dutch authorships skew the data\n",
        "remove_netherlands = True # @param {type:\"boolean\"}\n",
        "if remove_netherlands:\n",
        "    del countries[\"NL\"]\n",
        "\n",
        "import country_converter as coco\n",
        "# Get the sanitized names from country_converer for the labels\n",
        "countries_names = coco.convert([name for name in countries.keys()], to='name_short')\n",
        "# Get ISO-3 codes from country_converer for the locations\n",
        "countries_iso = coco.convert([name for name in countries.keys()], to='ISO3')\n",
        "# Collect the counts for the colors on the map\n",
        "countries_counts = [count for count in countries.values()]\n",
        "\n",
        "fig = px.choropleth(\n",
        "    hover_name=countries_names,\n",
        "    locations=countries_iso,\n",
        "    locationmode='ISO-3',\n",
        "    color=countries_counts\n",
        ")\n",
        "fig.show()"
      ],
      "metadata": {
        "colab": {
          "base_uri": "https://localhost:8080/",
          "height": 542
        },
        "id": "C9vKizKIgXJv",
        "outputId": "48cf77c9-e6cd-4ece-c240-6f10c2f7ca3f"
      },
      "execution_count": null,
      "outputs": [
        {
          "output_type": "display_data",
          "data": {
            "text/html": [
              "<html>\n",
              "<head><meta charset=\"utf-8\" /></head>\n",
              "<body>\n",
              "    <div>            <script src=\"https://cdnjs.cloudflare.com/ajax/libs/mathjax/2.7.5/MathJax.js?config=TeX-AMS-MML_SVG\"></script><script type=\"text/javascript\">if (window.MathJax && window.MathJax.Hub && window.MathJax.Hub.Config) {window.MathJax.Hub.Config({SVG: {font: \"STIX-Web\"}});}</script>                <script type=\"text/javascript\">window.PlotlyConfig = {MathJaxConfig: 'local'};</script>\n",
              "        <script charset=\"utf-8\" src=\"https://cdn.plot.ly/plotly-2.24.1.min.js\"></script>                <div id=\"b3f4ffce-3879-43f4-bde7-3a73efea5694\" class=\"plotly-graph-div\" style=\"height:525px; width:100%;\"></div>            <script type=\"text/javascript\">                                    window.PLOTLYENV=window.PLOTLYENV || {};                                    if (document.getElementById(\"b3f4ffce-3879-43f4-bde7-3a73efea5694\")) {                    Plotly.newPlot(                        \"b3f4ffce-3879-43f4-bde7-3a73efea5694\",                        [{\"coloraxis\":\"coloraxis\",\"geo\":\"geo\",\"hovertemplate\":\"\\u003cb\\u003e%{hovertext}\\u003c\\u002fb\\u003e\\u003cbr\\u003e\\u003cbr\\u003elocations=%{location}\\u003cbr\\u003ecolor=%{z}\\u003cextra\\u003e\\u003c\\u002fextra\\u003e\",\"hovertext\":[\"Sweden\",\"Spain\",\"Germany\",\"Belgium\",\"United Kingdom\",\"Italy\",\"France\",\"Brazil\",\"Switzerland\",\"China\",\"United States\",\"Canada\",\"Australia\",\"Denmark\",\"Estonia\",\"Norway\",\"Portugal\",\"South Africa\",\"India\",\"Poland\",\"Taiwan\",\"Finland\",\"Japan\",\"South Korea\",\"Mexico\",\"Russia\",\"Luxembourg\",\"Chile\",\"Latvia\",\"Austria\",\"Czech Republic\",\"Israel\",\"Slovenia\",\"Greece\",\"Colombia\",\"Ireland\",\"Hungary\",\"Serbia\",\"Bosnia and Herzegovina\",\"Croatia\",\"Bulgaria\",\"T\\u00fcrkiye\",\"Panama\",\"Qatar\",\"Puerto Rico\",\"Iceland\",\"Uganda\",\"Bangladesh\",\"French Guiana\",\"Argentina\",\"Peru\",\"Cote d'Ivoire\",\"New Zealand\",\"Ecuador\",\"Guyana\",\"Uruguay\",\"Saudi Arabia\",\"Kazakhstan\",\"Kyrgyz Republic\",\"Mongolia\",\"Jordan\",\"Armenia\",\"Slovakia\",\"Singapore\",\"Indonesia\",\"Pakistan\",\"Malaysia\",\"Greenland\",\"Philippines\",\"Lithuania\",\"Cyprus\",\"Romania\",\"Iran\",\"Lebanon\",\"Nigeria\",\"Morocco\",\"Mozambique\",\"Guinea\",\"Tanzania\",\"Tajikistan\",\"Ukraine\",\"Algeria\",\"Senegal\",\"Gabon\",\"Gambia\",\"Thailand\",\"Vietnam\",\"Egypt\",\"Ghana\",\"Malta\",\"Saint-Martin\",\"Ethiopia\",\"North Macedonia\",\"Nepal\",\"Iraq\",\"Hong Kong\",\"Oman\",\"Georgia\",\"Papua New Guinea\",\"Brunei Darussalam\",\"Costa Rica\",\"Palestine\",\"Bolivia\",\"Sri Lanka\",\"Suriname\",\"Cameroon\",\"United Arab Emirates\",\"Tunisia\",\"Reunion\",\"French Polynesia\",\"Guernsey\",\"Cuba\",\"Venezuela\",\"Montenegro\",\"Malawi\",\"Namibia\",\"Kenya\",\"Zambia\",\"Rwanda\",\"Mauritius\",\"Somalia\",\"Burundi\",\"Vanuatu\",\"Kosovo\",\"Sudan\",\"Syria\",\"Dominican Republic\",\"Guatemala\",\"Eswatini\",\"Uzbekistan\",\"Macau\",\"Guadeloupe\",\"Nicaragua\",\"Zimbabwe\",\"Benin\",\"New Caledonia\",\"Fiji\",\"Turks and Caicos Islands\",\"Liechtenstein\",\"Jamaica\",\"Kuwait\",\"Belarus\",\"Paraguay\",\"Curacao\",\"Cambodia\",\"Burkina Faso\",\"Andorra\",\"Trinidad and Tobago\",\"Monaco\",\"Mali\",\"Myanmar\",\"Botswana\",\"Madagascar\",\"St. Kitts and Nevis\",\"Martinique\",\"DR Congo\",\"Moldova\",\"Albania\",\"Dominica\",\"St. Vincent and the Grenadines\",\"Sint Maarten\",\"Congo Republic\",\"Bahamas\",\"Grenada\",\"Maldives\",\"Sierra Leone\",\"Angola\",\"Afghanistan\",\"Azerbaijan\",\"Haiti\"],\"locationmode\":\"ISO-3\",\"locations\":[\"SWE\",\"ESP\",\"DEU\",\"BEL\",\"GBR\",\"ITA\",\"FRA\",\"BRA\",\"CHE\",\"CHN\",\"USA\",\"CAN\",\"AUS\",\"DNK\",\"EST\",\"NOR\",\"PRT\",\"ZAF\",\"IND\",\"POL\",\"TWN\",\"FIN\",\"JPN\",\"KOR\",\"MEX\",\"RUS\",\"LUX\",\"CHL\",\"LVA\",\"AUT\",\"CZE\",\"ISR\",\"SVN\",\"GRC\",\"COL\",\"IRL\",\"HUN\",\"SRB\",\"BIH\",\"HRV\",\"BGR\",\"TUR\",\"PAN\",\"QAT\",\"PRI\",\"ISL\",\"UGA\",\"BGD\",\"GUF\",\"ARG\",\"PER\",\"CIV\",\"NZL\",\"ECU\",\"GUY\",\"URY\",\"SAU\",\"KAZ\",\"KGZ\",\"MNG\",\"JOR\",\"ARM\",\"SVK\",\"SGP\",\"IDN\",\"PAK\",\"MYS\",\"GRL\",\"PHL\",\"LTU\",\"CYP\",\"ROU\",\"IRN\",\"LBN\",\"NGA\",\"MAR\",\"MOZ\",\"GIN\",\"TZA\",\"TJK\",\"UKR\",\"DZA\",\"SEN\",\"GAB\",\"GMB\",\"THA\",\"VNM\",\"EGY\",\"GHA\",\"MLT\",\"MAF\",\"ETH\",\"MKD\",\"NPL\",\"IRQ\",\"HKG\",\"OMN\",\"GEO\",\"PNG\",\"BRN\",\"CRI\",\"PSE\",\"BOL\",\"LKA\",\"SUR\",\"CMR\",\"ARE\",\"TUN\",\"REU\",\"PYF\",\"GGY\",\"CUB\",\"VEN\",\"MNE\",\"MWI\",\"NAM\",\"KEN\",\"ZMB\",\"RWA\",\"MUS\",\"SOM\",\"BDI\",\"VUT\",\"XKX\",\"SDN\",\"SYR\",\"DOM\",\"GTM\",\"SWZ\",\"UZB\",\"MAC\",\"GLP\",\"NIC\",\"ZWE\",\"BEN\",\"NCL\",\"FJI\",\"TCA\",\"LIE\",\"JAM\",\"KWT\",\"BLR\",\"PRY\",\"CUW\",\"KHM\",\"BFA\",\"AND\",\"TTO\",\"MCO\",\"MLI\",\"MMR\",\"BWA\",\"MDG\",\"KNA\",\"MTQ\",\"COD\",\"MDA\",\"ALB\",\"DMA\",\"VCT\",\"SXM\",\"COG\",\"BHS\",\"GRD\",\"MDV\",\"SLE\",\"AGO\",\"AFG\",\"AZE\",\"HTI\"],\"name\":\"\",\"z\":[1833,5365,13640,2610,12022,7845,7825,887,4104,3619,19384,2374,2983,1541,151,906,944,842,476,872,454,768,2521,380,349,800,140,1616,12,1318,604,535,104,341,88,488,472,107,5,165,53,223,27,30,6,74,54,31,2,190,36,5,158,20,1,24,131,61,12,9,21,31,104,311,272,84,136,3,47,78,60,194,191,18,87,117,3,1,83,8,136,33,7,17,6,78,37,90,18,23,1,53,6,60,10,38,5,35,6,9,44,2,5,5,10,9,53,14,21,4,1,22,10,1,12,11,46,10,3,2,1,3,7,14,4,1,10,4,6,4,12,3,1,7,3,5,6,1,2,3,2,10,3,5,4,4,1,2,8,3,1,4,3,1,1,8,1,2,1,1,3,3,1,1,1,3,2,1,1,5],\"type\":\"choropleth\"}],                        {\"template\":{\"data\":{\"histogram2dcontour\":[{\"type\":\"histogram2dcontour\",\"colorbar\":{\"outlinewidth\":0,\"ticks\":\"\"},\"colorscale\":[[0.0,\"#0d0887\"],[0.1111111111111111,\"#46039f\"],[0.2222222222222222,\"#7201a8\"],[0.3333333333333333,\"#9c179e\"],[0.4444444444444444,\"#bd3786\"],[0.5555555555555556,\"#d8576b\"],[0.6666666666666666,\"#ed7953\"],[0.7777777777777778,\"#fb9f3a\"],[0.8888888888888888,\"#fdca26\"],[1.0,\"#f0f921\"]]}],\"choropleth\":[{\"type\":\"choropleth\",\"colorbar\":{\"outlinewidth\":0,\"ticks\":\"\"}}],\"histogram2d\":[{\"type\":\"histogram2d\",\"colorbar\":{\"outlinewidth\":0,\"ticks\":\"\"},\"colorscale\":[[0.0,\"#0d0887\"],[0.1111111111111111,\"#46039f\"],[0.2222222222222222,\"#7201a8\"],[0.3333333333333333,\"#9c179e\"],[0.4444444444444444,\"#bd3786\"],[0.5555555555555556,\"#d8576b\"],[0.6666666666666666,\"#ed7953\"],[0.7777777777777778,\"#fb9f3a\"],[0.8888888888888888,\"#fdca26\"],[1.0,\"#f0f921\"]]}],\"heatmap\":[{\"type\":\"heatmap\",\"colorbar\":{\"outlinewidth\":0,\"ticks\":\"\"},\"colorscale\":[[0.0,\"#0d0887\"],[0.1111111111111111,\"#46039f\"],[0.2222222222222222,\"#7201a8\"],[0.3333333333333333,\"#9c179e\"],[0.4444444444444444,\"#bd3786\"],[0.5555555555555556,\"#d8576b\"],[0.6666666666666666,\"#ed7953\"],[0.7777777777777778,\"#fb9f3a\"],[0.8888888888888888,\"#fdca26\"],[1.0,\"#f0f921\"]]}],\"heatmapgl\":[{\"type\":\"heatmapgl\",\"colorbar\":{\"outlinewidth\":0,\"ticks\":\"\"},\"colorscale\":[[0.0,\"#0d0887\"],[0.1111111111111111,\"#46039f\"],[0.2222222222222222,\"#7201a8\"],[0.3333333333333333,\"#9c179e\"],[0.4444444444444444,\"#bd3786\"],[0.5555555555555556,\"#d8576b\"],[0.6666666666666666,\"#ed7953\"],[0.7777777777777778,\"#fb9f3a\"],[0.8888888888888888,\"#fdca26\"],[1.0,\"#f0f921\"]]}],\"contourcarpet\":[{\"type\":\"contourcarpet\",\"colorbar\":{\"outlinewidth\":0,\"ticks\":\"\"}}],\"contour\":[{\"type\":\"contour\",\"colorbar\":{\"outlinewidth\":0,\"ticks\":\"\"},\"colorscale\":[[0.0,\"#0d0887\"],[0.1111111111111111,\"#46039f\"],[0.2222222222222222,\"#7201a8\"],[0.3333333333333333,\"#9c179e\"],[0.4444444444444444,\"#bd3786\"],[0.5555555555555556,\"#d8576b\"],[0.6666666666666666,\"#ed7953\"],[0.7777777777777778,\"#fb9f3a\"],[0.8888888888888888,\"#fdca26\"],[1.0,\"#f0f921\"]]}],\"surface\":[{\"type\":\"surface\",\"colorbar\":{\"outlinewidth\":0,\"ticks\":\"\"},\"colorscale\":[[0.0,\"#0d0887\"],[0.1111111111111111,\"#46039f\"],[0.2222222222222222,\"#7201a8\"],[0.3333333333333333,\"#9c179e\"],[0.4444444444444444,\"#bd3786\"],[0.5555555555555556,\"#d8576b\"],[0.6666666666666666,\"#ed7953\"],[0.7777777777777778,\"#fb9f3a\"],[0.8888888888888888,\"#fdca26\"],[1.0,\"#f0f921\"]]}],\"mesh3d\":[{\"type\":\"mesh3d\",\"colorbar\":{\"outlinewidth\":0,\"ticks\":\"\"}}],\"scatter\":[{\"fillpattern\":{\"fillmode\":\"overlay\",\"size\":10,\"solidity\":0.2},\"type\":\"scatter\"}],\"parcoords\":[{\"type\":\"parcoords\",\"line\":{\"colorbar\":{\"outlinewidth\":0,\"ticks\":\"\"}}}],\"scatterpolargl\":[{\"type\":\"scatterpolargl\",\"marker\":{\"colorbar\":{\"outlinewidth\":0,\"ticks\":\"\"}}}],\"bar\":[{\"error_x\":{\"color\":\"#2a3f5f\"},\"error_y\":{\"color\":\"#2a3f5f\"},\"marker\":{\"line\":{\"color\":\"#E5ECF6\",\"width\":0.5},\"pattern\":{\"fillmode\":\"overlay\",\"size\":10,\"solidity\":0.2}},\"type\":\"bar\"}],\"scattergeo\":[{\"type\":\"scattergeo\",\"marker\":{\"colorbar\":{\"outlinewidth\":0,\"ticks\":\"\"}}}],\"scatterpolar\":[{\"type\":\"scatterpolar\",\"marker\":{\"colorbar\":{\"outlinewidth\":0,\"ticks\":\"\"}}}],\"histogram\":[{\"marker\":{\"pattern\":{\"fillmode\":\"overlay\",\"size\":10,\"solidity\":0.2}},\"type\":\"histogram\"}],\"scattergl\":[{\"type\":\"scattergl\",\"marker\":{\"colorbar\":{\"outlinewidth\":0,\"ticks\":\"\"}}}],\"scatter3d\":[{\"type\":\"scatter3d\",\"line\":{\"colorbar\":{\"outlinewidth\":0,\"ticks\":\"\"}},\"marker\":{\"colorbar\":{\"outlinewidth\":0,\"ticks\":\"\"}}}],\"scattermapbox\":[{\"type\":\"scattermapbox\",\"marker\":{\"colorbar\":{\"outlinewidth\":0,\"ticks\":\"\"}}}],\"scatterternary\":[{\"type\":\"scatterternary\",\"marker\":{\"colorbar\":{\"outlinewidth\":0,\"ticks\":\"\"}}}],\"scattercarpet\":[{\"type\":\"scattercarpet\",\"marker\":{\"colorbar\":{\"outlinewidth\":0,\"ticks\":\"\"}}}],\"carpet\":[{\"aaxis\":{\"endlinecolor\":\"#2a3f5f\",\"gridcolor\":\"white\",\"linecolor\":\"white\",\"minorgridcolor\":\"white\",\"startlinecolor\":\"#2a3f5f\"},\"baxis\":{\"endlinecolor\":\"#2a3f5f\",\"gridcolor\":\"white\",\"linecolor\":\"white\",\"minorgridcolor\":\"white\",\"startlinecolor\":\"#2a3f5f\"},\"type\":\"carpet\"}],\"table\":[{\"cells\":{\"fill\":{\"color\":\"#EBF0F8\"},\"line\":{\"color\":\"white\"}},\"header\":{\"fill\":{\"color\":\"#C8D4E3\"},\"line\":{\"color\":\"white\"}},\"type\":\"table\"}],\"barpolar\":[{\"marker\":{\"line\":{\"color\":\"#E5ECF6\",\"width\":0.5},\"pattern\":{\"fillmode\":\"overlay\",\"size\":10,\"solidity\":0.2}},\"type\":\"barpolar\"}],\"pie\":[{\"automargin\":true,\"type\":\"pie\"}]},\"layout\":{\"autotypenumbers\":\"strict\",\"colorway\":[\"#636efa\",\"#EF553B\",\"#00cc96\",\"#ab63fa\",\"#FFA15A\",\"#19d3f3\",\"#FF6692\",\"#B6E880\",\"#FF97FF\",\"#FECB52\"],\"font\":{\"color\":\"#2a3f5f\"},\"hovermode\":\"closest\",\"hoverlabel\":{\"align\":\"left\"},\"paper_bgcolor\":\"white\",\"plot_bgcolor\":\"#E5ECF6\",\"polar\":{\"bgcolor\":\"#E5ECF6\",\"angularaxis\":{\"gridcolor\":\"white\",\"linecolor\":\"white\",\"ticks\":\"\"},\"radialaxis\":{\"gridcolor\":\"white\",\"linecolor\":\"white\",\"ticks\":\"\"}},\"ternary\":{\"bgcolor\":\"#E5ECF6\",\"aaxis\":{\"gridcolor\":\"white\",\"linecolor\":\"white\",\"ticks\":\"\"},\"baxis\":{\"gridcolor\":\"white\",\"linecolor\":\"white\",\"ticks\":\"\"},\"caxis\":{\"gridcolor\":\"white\",\"linecolor\":\"white\",\"ticks\":\"\"}},\"coloraxis\":{\"colorbar\":{\"outlinewidth\":0,\"ticks\":\"\"}},\"colorscale\":{\"sequential\":[[0.0,\"#0d0887\"],[0.1111111111111111,\"#46039f\"],[0.2222222222222222,\"#7201a8\"],[0.3333333333333333,\"#9c179e\"],[0.4444444444444444,\"#bd3786\"],[0.5555555555555556,\"#d8576b\"],[0.6666666666666666,\"#ed7953\"],[0.7777777777777778,\"#fb9f3a\"],[0.8888888888888888,\"#fdca26\"],[1.0,\"#f0f921\"]],\"sequentialminus\":[[0.0,\"#0d0887\"],[0.1111111111111111,\"#46039f\"],[0.2222222222222222,\"#7201a8\"],[0.3333333333333333,\"#9c179e\"],[0.4444444444444444,\"#bd3786\"],[0.5555555555555556,\"#d8576b\"],[0.6666666666666666,\"#ed7953\"],[0.7777777777777778,\"#fb9f3a\"],[0.8888888888888888,\"#fdca26\"],[1.0,\"#f0f921\"]],\"diverging\":[[0,\"#8e0152\"],[0.1,\"#c51b7d\"],[0.2,\"#de77ae\"],[0.3,\"#f1b6da\"],[0.4,\"#fde0ef\"],[0.5,\"#f7f7f7\"],[0.6,\"#e6f5d0\"],[0.7,\"#b8e186\"],[0.8,\"#7fbc41\"],[0.9,\"#4d9221\"],[1,\"#276419\"]]},\"xaxis\":{\"gridcolor\":\"white\",\"linecolor\":\"white\",\"ticks\":\"\",\"title\":{\"standoff\":15},\"zerolinecolor\":\"white\",\"automargin\":true,\"zerolinewidth\":2},\"yaxis\":{\"gridcolor\":\"white\",\"linecolor\":\"white\",\"ticks\":\"\",\"title\":{\"standoff\":15},\"zerolinecolor\":\"white\",\"automargin\":true,\"zerolinewidth\":2},\"scene\":{\"xaxis\":{\"backgroundcolor\":\"#E5ECF6\",\"gridcolor\":\"white\",\"linecolor\":\"white\",\"showbackground\":true,\"ticks\":\"\",\"zerolinecolor\":\"white\",\"gridwidth\":2},\"yaxis\":{\"backgroundcolor\":\"#E5ECF6\",\"gridcolor\":\"white\",\"linecolor\":\"white\",\"showbackground\":true,\"ticks\":\"\",\"zerolinecolor\":\"white\",\"gridwidth\":2},\"zaxis\":{\"backgroundcolor\":\"#E5ECF6\",\"gridcolor\":\"white\",\"linecolor\":\"white\",\"showbackground\":true,\"ticks\":\"\",\"zerolinecolor\":\"white\",\"gridwidth\":2}},\"shapedefaults\":{\"line\":{\"color\":\"#2a3f5f\"}},\"annotationdefaults\":{\"arrowcolor\":\"#2a3f5f\",\"arrowhead\":0,\"arrowwidth\":1},\"geo\":{\"bgcolor\":\"white\",\"landcolor\":\"#E5ECF6\",\"subunitcolor\":\"white\",\"showland\":true,\"showlakes\":true,\"lakecolor\":\"white\"},\"title\":{\"x\":0.05},\"mapbox\":{\"style\":\"light\"}}},\"geo\":{\"domain\":{\"x\":[0.0,1.0],\"y\":[0.0,1.0]},\"center\":{}},\"coloraxis\":{\"colorbar\":{\"title\":{\"text\":\"color\"}},\"colorscale\":[[0.0,\"#0d0887\"],[0.1111111111111111,\"#46039f\"],[0.2222222222222222,\"#7201a8\"],[0.3333333333333333,\"#9c179e\"],[0.4444444444444444,\"#bd3786\"],[0.5555555555555556,\"#d8576b\"],[0.6666666666666666,\"#ed7953\"],[0.7777777777777778,\"#fb9f3a\"],[0.8888888888888888,\"#fdca26\"],[1.0,\"#f0f921\"]]},\"legend\":{\"tracegroupgap\":0},\"margin\":{\"t\":60}},                        {\"responsive\": true}                    ).then(function(){\n",
              "                            \n",
              "var gd = document.getElementById('b3f4ffce-3879-43f4-bde7-3a73efea5694');\n",
              "var x = new MutationObserver(function (mutations, observer) {{\n",
              "        var display = window.getComputedStyle(gd).display;\n",
              "        if (!display || display === 'none') {{\n",
              "            console.log([gd, 'removed!']);\n",
              "            Plotly.purge(gd);\n",
              "            observer.disconnect();\n",
              "        }}\n",
              "}});\n",
              "\n",
              "// Listen for the removal of the full notebook cells\n",
              "var notebookContainer = gd.closest('#notebook-container');\n",
              "if (notebookContainer) {{\n",
              "    x.observe(notebookContainer, {childList: true});\n",
              "}}\n",
              "\n",
              "// Listen for the clearing of the current output cell\n",
              "var outputEl = gd.closest('.output');\n",
              "if (outputEl) {{\n",
              "    x.observe(outputEl, {childList: true});\n",
              "}}\n",
              "\n",
              "                        })                };                            </script>        </div>\n",
              "</body>\n",
              "</html>"
            ]
          },
          "metadata": {}
        }
      ]
    }
  ]
}